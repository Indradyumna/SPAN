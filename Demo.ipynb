{
 "cells": [
  {
   "cell_type": "markdown",
   "metadata": {},
   "source": [
    "<h1> Toy Task to predict maximum number in a set"
   ]
  },
  {
   "cell_type": "code",
   "execution_count": 1,
   "metadata": {},
   "outputs": [],
   "source": [
    "import numpy as np\n",
    "import tensorflow as tf\n",
    "import matplotlib.pyplot as plt\n",
    "import os\n",
    "os.environ['CUDA_VISIBLE_DEVICES'] = ''"
   ]
  },
  {
   "cell_type": "markdown",
   "metadata": {},
   "source": [
    "<h1> Data Generator"
   ]
  },
  {
   "cell_type": "code",
   "execution_count": 2,
   "metadata": {},
   "outputs": [],
   "source": [
    "def getData(size, n, maxN):\n",
    "    \"\"\"\n",
    "    Params:\n",
    "      size: number of sets to generate\n",
    "      n: number of elements in each set\n",
    "      maxN: range of elements in set\n",
    "    Returns:\n",
    "      x: numpy array of shape (size, n, dimension of each element in set)\n",
    "      y: numpy array of shape (size, dimension of set-function output label)\n",
    "    \"\"\"\n",
    "    x = []\n",
    "    for i in range(size):\n",
    "        xp = np.random.randint(1, np.random.randint(2, maxN), (n)).tolist()\n",
    "        x.append(xp)\n",
    "    x = np.array(x)\n",
    "    x = np.reshape(x, [-1, n, 1])\n",
    "    y = np.max(x, axis=1)\n",
    "    y = np.reshape(y, [-1, 1])\n",
    "    print(x.shape, y.shape)\n",
    "    \n",
    "    return x, y"
   ]
  },
  {
   "cell_type": "markdown",
   "metadata": {},
   "source": [
    "<h1> Model Parameters"
   ]
  },
  {
   "cell_type": "code",
   "execution_count": 3,
   "metadata": {},
   "outputs": [],
   "source": [
    "numHidden = 128\n",
    "n = 10\n",
    "temp = 0.1\n",
    "alpha = 1e-5\n",
    "numLSTMUnits = 128\n",
    "numLSTMHidden = 128\n",
    "numLSTMOut = 1\n",
    "maxN = 30\n",
    "\n",
    "numEpochs = 100\n",
    "numSubEpochs = 150 # number of epochs to individually optimize adversary and learner\n",
    "batchSize = 32"
   ]
  },
  {
   "cell_type": "markdown",
   "metadata": {},
   "source": [
    "<h1> SPAN Architecture"
   ]
  },
  {
   "cell_type": "code",
   "execution_count": 4,
   "metadata": {},
   "outputs": [],
   "source": [
    "def sinkhorn(X, num_iters=100):\n",
    "    \"\"\"\n",
    "    Sinkhorn Normalization works better in practice in the log-space\n",
    "    Reference: https://github.com/google/gumbel_sinkhorn/blob/master/sinkhorn_ops.py\n",
    "    \"\"\"\n",
    "    n = tf.shape(X)[1]\n",
    "    X = tf.reshape(X, [-1, n, n])\n",
    "    for _ in range(num_iters):\n",
    "        X -= tf.reshape(tf.reduce_logsumexp(X, axis=2), [-1, n, 1])\n",
    "        X -= tf.reshape(tf.reduce_logsumexp(X, axis=1), [-1, 1, n])\n",
    "    return tf.exp(X)"
   ]
  },
  {
   "cell_type": "code",
   "execution_count": 5,
   "metadata": {},
   "outputs": [],
   "source": [
    "tf.reset_default_graph()\n",
    "\n",
    "X = tf.placeholder(tf.float32, [None, n, 1])\n",
    "Y = tf.placeholder(tf.float32, [None, 1])\n",
    "keep_prob = tf.placeholder(tf.float32)\n",
    "\n",
    "X_flattened = tf.reshape(X, [-1, 1])\n",
    "\n",
    "initializer = tf.contrib.layers.xavier_initializer()\n",
    "\n",
    "W1 = tf.Variable(initializer([1, numHidden]))\n",
    "B1 = tf.Variable(initializer([numHidden]))\n",
    "hidden = tf.nn.dropout(tf.nn.relu(tf.add(tf.matmul(X_flattened, W1), B1)), keep_prob=keep_prob)\n",
    "\n",
    "W2 = tf.Variable(initializer([numHidden, n]))\n",
    "B2 = tf.Variable(initializer([n]))\n",
    "preSinkhorn = tf.add(tf.matmul(hidden, W2), B2)\n",
    "preSinkhorn = tf.reshape(preSinkhorn, [-1, n, n])\n",
    "preSinkhorn /= temp\n",
    "\n",
    "# Apply the Sinkhorn operator on the matrix to convert it into a Doubly-Stochastic Matrix\n",
    "postSinkhorn = sinkhorn(preSinkhorn)\n",
    "\n",
    "# Since the inverse of a permutation matrix is its transpose, approximate the inverse\n",
    "# of the double stochastic matrix with its transpose\n",
    "postSinkhornInv = tf.transpose(postSinkhorn, [0, 2, 1])\n",
    "\n",
    "# Apply the adversarial permutations on the input sets\n",
    "permutedX = tf.matmul(postSinkhornInv, X)"
   ]
  },
  {
   "cell_type": "code",
   "execution_count": 6,
   "metadata": {},
   "outputs": [
    {
     "name": "stdout",
     "output_type": "stream",
     "text": [
      "WARNING:tensorflow:From <ipython-input-6-81cb848f97a6>:8: BasicLSTMCell.__init__ (from tensorflow.python.ops.rnn_cell_impl) is deprecated and will be removed in a future version.\n",
      "Instructions for updating:\n",
      "This class is deprecated, please use tf.nn.rnn_cell.LSTMCell, which supports all the feature this cell currently has. Please replace the existing code with tf.nn.rnn_cell.LSTMCell(name='basic_lstm_cell').\n"
     ]
    }
   ],
   "source": [
    "# Define LSTM and FC layerds of the learner function\n",
    "\n",
    "LSTMW1 = tf.Variable(initializer([numLSTMUnits, numLSTMHidden]))\n",
    "LSTMB1 = tf.Variable(initializer([numLSTMHidden]))\n",
    "\n",
    "LSTMW2 = tf.Variable(initializer([numLSTMHidden, numLSTMOut]))\n",
    "LSTMB2 = tf.Variable(initializer([numLSTMOut]))\n",
    "\n",
    "permutedXUnstacked = tf.unstack(permutedX, n, axis=1)\n",
    "cell = tf.nn.rnn_cell.BasicLSTMCell(numLSTMUnits, forget_bias=1)\n",
    "outputs, states = tf.nn.static_rnn(cell, permutedXUnstacked, dtype=tf.float32)\n",
    "LSTMHidden = tf.nn.dropout(tf.nn.relu(tf.add(tf.matmul(outputs[-1], LSTMW1), LSTMB1)), keep_prob=keep_prob)\n",
    "LSTMOut = tf.add(tf.matmul(LSTMHidden, LSTMW2), LSTMB2)\n",
    "\n",
    "loss = tf.nn.l2_loss(LSTMOut - Y)\n",
    "\n",
    "# Parameters of the learner function\n",
    "varListFunction = [LSTMW1, LSTMB1, LSTMW2, LSTMB2]\n",
    "varListFunction.extend(cell.variables)\n",
    "\n",
    "# Parameters of the adversary\n",
    "varListPerm = [W1, B1, W2, B2]\n",
    "\n",
    "# Optimizer which updates parameters of the learner to minimize loss, keeping \n",
    "# parameters of the adversary fixed\n",
    "optimizerFunction = tf.train.AdamOptimizer(learning_rate=alpha).minimize(loss, var_list=varListFunction)\n",
    "\n",
    "# Optimizer which updates parameters of the adversary to maximize loss, keeping\n",
    "# parameters of the learner fixed\n",
    "optimizerPerm = tf.train.AdamOptimizer(learning_rate=alpha).minimize(-1 * loss, var_list=varListPerm)"
   ]
  },
  {
   "cell_type": "markdown",
   "metadata": {},
   "source": [
    "<h1> Create Train, Val, Test Splits"
   ]
  },
  {
   "cell_type": "code",
   "execution_count": 7,
   "metadata": {},
   "outputs": [
    {
     "name": "stdout",
     "output_type": "stream",
     "text": [
      "(1000, 10, 1) (1000, 1)\n",
      "(200, 10, 1) (200, 1)\n",
      "(200, 10, 1) (200, 1)\n"
     ]
    }
   ],
   "source": [
    "x_train, y_train = getData(1000, n, maxN)\n",
    "x_val, y_val = getData(200, n, maxN)\n",
    "x_test, y_test = getData(200, n, maxN)"
   ]
  },
  {
   "cell_type": "markdown",
   "metadata": {},
   "source": [
    "<h1> Initialize session"
   ]
  },
  {
   "cell_type": "code",
   "execution_count": 8,
   "metadata": {},
   "outputs": [],
   "source": [
    "sess = tf.Session()\n",
    "sess.run(tf.global_variables_initializer())\n",
    "lossList = []\n",
    "minValLoss = 1000000000\n",
    "weights = {'W1': sess.run(W1),\n",
    "           'B1': sess.run(B1),\n",
    "           'W2': sess.run(W2),\n",
    "           'B2': sess.run(B2),\n",
    "           'LSTMW1': sess.run(LSTMW1),\n",
    "           'LSTMB1': sess.run(LSTMB1),\n",
    "           'LSTMW2': sess.run(LSTMW2),\n",
    "           'LSTMB2': sess.run(LSTMB2),\n",
    "           'kernel': sess.run(cell.variables[0]),\n",
    "           'bias': sess.run(cell.variables[1])}"
   ]
  },
  {
   "cell_type": "markdown",
   "metadata": {},
   "source": [
    "<h1> SPAN training with Alternating Optimization"
   ]
  },
  {
   "cell_type": "code",
   "execution_count": 9,
   "metadata": {
    "scrolled": true
   },
   "outputs": [
    {
     "name": "stdout",
     "output_type": "stream",
     "text": [
      "Optimizing Permutation: Epoch 0 Sub-epoch 149 Loss 93503.203491\n",
      "Optimizing Function: Epoch 0 Sub-epoch 149 Loss 8.9673541\n",
      "Validation loss is 194.698502\n",
      "Optimizing Permutation: Epoch 1 Sub-epoch 149 Loss 20028.749390\n",
      "Optimizing Function: Epoch 1 Sub-epoch 149 Loss 1.211377\n",
      "Validation loss is 47.591011\n",
      "Optimizing Permutation: Epoch 2 Sub-epoch 149 Loss 1678.978518\n",
      "Optimizing Function: Epoch 2 Sub-epoch 149 Loss 0.100525\n",
      "Validation loss is 2.682525\n",
      "Optimizing Permutation: Epoch 3 Sub-epoch 149 Loss 59317.536438\n",
      "Optimizing Function: Epoch 3 Sub-epoch 149 Loss 3.087206\n",
      "Validation loss is 136.017822\n",
      "Optimizing Permutation: Epoch 4 Sub-epoch 149 Loss 11677.958481\n",
      "Optimizing Function: Epoch 4 Sub-epoch 149 Loss 0.562636\n",
      "Validation loss is 13.547885\n",
      "Optimizing Permutation: Epoch 5 Sub-epoch 149 Loss 15261.074387\n",
      "Optimizing Function: Epoch 5 Sub-epoch 149 Loss 4.323665\n",
      "Validation loss is 129.654755\n",
      "Optimizing Permutation: Epoch 6 Sub-epoch 149 Loss 25525.040283\n",
      "Optimizing Function: Epoch 6 Sub-epoch 149 Loss 0.150442\n",
      "Validation loss is 7.462825\n",
      "Optimizing Permutation: Epoch 7 Sub-epoch 35 Loss 589.214336\r"
     ]
    },
    {
     "ename": "KeyboardInterrupt",
     "evalue": "",
     "output_type": "error",
     "traceback": [
      "\u001b[0;31m---------------------------------------------------------------------------\u001b[0m",
      "\u001b[0;31mKeyboardInterrupt\u001b[0m                         Traceback (most recent call last)",
      "\u001b[0;32m<ipython-input-9-c932a936a380>\u001b[0m in \u001b[0;36m<module>\u001b[0;34m\u001b[0m\n\u001b[1;32m      5\u001b[0m             \u001b[0mbatch_x_train\u001b[0m \u001b[0;34m=\u001b[0m \u001b[0mx_train\u001b[0m\u001b[0;34m[\u001b[0m\u001b[0mk\u001b[0m\u001b[0;34m:\u001b[0m\u001b[0mmin\u001b[0m\u001b[0;34m(\u001b[0m\u001b[0mk\u001b[0m\u001b[0;34m+\u001b[0m\u001b[0mbatchSize\u001b[0m\u001b[0;34m,\u001b[0m \u001b[0mlen\u001b[0m\u001b[0;34m(\u001b[0m\u001b[0mx_train\u001b[0m\u001b[0;34m)\u001b[0m\u001b[0;34m)\u001b[0m\u001b[0;34m,\u001b[0m \u001b[0;34m:\u001b[0m\u001b[0;34m,\u001b[0m \u001b[0;34m:\u001b[0m\u001b[0;34m]\u001b[0m\u001b[0;34m\u001b[0m\u001b[0m\n\u001b[1;32m      6\u001b[0m             \u001b[0mbatch_y_train\u001b[0m \u001b[0;34m=\u001b[0m \u001b[0my_train\u001b[0m\u001b[0;34m[\u001b[0m\u001b[0mk\u001b[0m\u001b[0;34m:\u001b[0m\u001b[0mmin\u001b[0m\u001b[0;34m(\u001b[0m\u001b[0mk\u001b[0m\u001b[0;34m+\u001b[0m\u001b[0mbatchSize\u001b[0m\u001b[0;34m,\u001b[0m \u001b[0mlen\u001b[0m\u001b[0;34m(\u001b[0m\u001b[0my_train\u001b[0m\u001b[0;34m)\u001b[0m\u001b[0;34m)\u001b[0m\u001b[0;34m,\u001b[0m \u001b[0;34m:\u001b[0m\u001b[0;34m]\u001b[0m\u001b[0;34m\u001b[0m\u001b[0m\n\u001b[0;32m----> 7\u001b[0;31m             \u001b[0m_\u001b[0m\u001b[0;34m,\u001b[0m \u001b[0ml\u001b[0m \u001b[0;34m=\u001b[0m \u001b[0msess\u001b[0m\u001b[0;34m.\u001b[0m\u001b[0mrun\u001b[0m\u001b[0;34m(\u001b[0m\u001b[0;34m[\u001b[0m\u001b[0moptimizerPerm\u001b[0m\u001b[0;34m,\u001b[0m \u001b[0mloss\u001b[0m\u001b[0;34m]\u001b[0m\u001b[0;34m,\u001b[0m \u001b[0mfeed_dict\u001b[0m\u001b[0;34m=\u001b[0m\u001b[0;34m{\u001b[0m\u001b[0mX\u001b[0m\u001b[0;34m:\u001b[0m\u001b[0mbatch_x_train\u001b[0m\u001b[0;34m,\u001b[0m \u001b[0mY\u001b[0m\u001b[0;34m:\u001b[0m\u001b[0mbatch_y_train\u001b[0m\u001b[0;34m,\u001b[0m \u001b[0mkeep_prob\u001b[0m\u001b[0;34m:\u001b[0m\u001b[0;36m1.0\u001b[0m\u001b[0;34m}\u001b[0m\u001b[0;34m)\u001b[0m\u001b[0;34m\u001b[0m\u001b[0m\n\u001b[0m\u001b[1;32m      8\u001b[0m             \u001b[0mtotalLoss\u001b[0m \u001b[0;34m+=\u001b[0m \u001b[0ml\u001b[0m\u001b[0;34m\u001b[0m\u001b[0m\n\u001b[1;32m      9\u001b[0m         \u001b[0mlossList\u001b[0m\u001b[0;34m.\u001b[0m\u001b[0mappend\u001b[0m\u001b[0;34m(\u001b[0m\u001b[0mtotalLoss\u001b[0m\u001b[0;34m)\u001b[0m\u001b[0;34m\u001b[0m\u001b[0m\n",
      "\u001b[0;32m~/.virtualenv/lib/python3.6/site-packages/tensorflow/python/client/session.py\u001b[0m in \u001b[0;36mrun\u001b[0;34m(self, fetches, feed_dict, options, run_metadata)\u001b[0m\n\u001b[1;32m    927\u001b[0m     \u001b[0;32mtry\u001b[0m\u001b[0;34m:\u001b[0m\u001b[0;34m\u001b[0m\u001b[0m\n\u001b[1;32m    928\u001b[0m       result = self._run(None, fetches, feed_dict, options_ptr,\n\u001b[0;32m--> 929\u001b[0;31m                          run_metadata_ptr)\n\u001b[0m\u001b[1;32m    930\u001b[0m       \u001b[0;32mif\u001b[0m \u001b[0mrun_metadata\u001b[0m\u001b[0;34m:\u001b[0m\u001b[0;34m\u001b[0m\u001b[0m\n\u001b[1;32m    931\u001b[0m         \u001b[0mproto_data\u001b[0m \u001b[0;34m=\u001b[0m \u001b[0mtf_session\u001b[0m\u001b[0;34m.\u001b[0m\u001b[0mTF_GetBuffer\u001b[0m\u001b[0;34m(\u001b[0m\u001b[0mrun_metadata_ptr\u001b[0m\u001b[0;34m)\u001b[0m\u001b[0;34m\u001b[0m\u001b[0m\n",
      "\u001b[0;32m~/.virtualenv/lib/python3.6/site-packages/tensorflow/python/client/session.py\u001b[0m in \u001b[0;36m_run\u001b[0;34m(self, handle, fetches, feed_dict, options, run_metadata)\u001b[0m\n\u001b[1;32m   1150\u001b[0m     \u001b[0;32mif\u001b[0m \u001b[0mfinal_fetches\u001b[0m \u001b[0;32mor\u001b[0m \u001b[0mfinal_targets\u001b[0m \u001b[0;32mor\u001b[0m \u001b[0;34m(\u001b[0m\u001b[0mhandle\u001b[0m \u001b[0;32mand\u001b[0m \u001b[0mfeed_dict_tensor\u001b[0m\u001b[0;34m)\u001b[0m\u001b[0;34m:\u001b[0m\u001b[0;34m\u001b[0m\u001b[0m\n\u001b[1;32m   1151\u001b[0m       results = self._do_run(handle, final_targets, final_fetches,\n\u001b[0;32m-> 1152\u001b[0;31m                              feed_dict_tensor, options, run_metadata)\n\u001b[0m\u001b[1;32m   1153\u001b[0m     \u001b[0;32melse\u001b[0m\u001b[0;34m:\u001b[0m\u001b[0;34m\u001b[0m\u001b[0m\n\u001b[1;32m   1154\u001b[0m       \u001b[0mresults\u001b[0m \u001b[0;34m=\u001b[0m \u001b[0;34m[\u001b[0m\u001b[0;34m]\u001b[0m\u001b[0;34m\u001b[0m\u001b[0m\n",
      "\u001b[0;32m~/.virtualenv/lib/python3.6/site-packages/tensorflow/python/client/session.py\u001b[0m in \u001b[0;36m_do_run\u001b[0;34m(self, handle, target_list, fetch_list, feed_dict, options, run_metadata)\u001b[0m\n\u001b[1;32m   1326\u001b[0m     \u001b[0;32mif\u001b[0m \u001b[0mhandle\u001b[0m \u001b[0;32mis\u001b[0m \u001b[0;32mNone\u001b[0m\u001b[0;34m:\u001b[0m\u001b[0;34m\u001b[0m\u001b[0m\n\u001b[1;32m   1327\u001b[0m       return self._do_call(_run_fn, feeds, fetches, targets, options,\n\u001b[0;32m-> 1328\u001b[0;31m                            run_metadata)\n\u001b[0m\u001b[1;32m   1329\u001b[0m     \u001b[0;32melse\u001b[0m\u001b[0;34m:\u001b[0m\u001b[0;34m\u001b[0m\u001b[0m\n\u001b[1;32m   1330\u001b[0m       \u001b[0;32mreturn\u001b[0m \u001b[0mself\u001b[0m\u001b[0;34m.\u001b[0m\u001b[0m_do_call\u001b[0m\u001b[0;34m(\u001b[0m\u001b[0m_prun_fn\u001b[0m\u001b[0;34m,\u001b[0m \u001b[0mhandle\u001b[0m\u001b[0;34m,\u001b[0m \u001b[0mfeeds\u001b[0m\u001b[0;34m,\u001b[0m \u001b[0mfetches\u001b[0m\u001b[0;34m)\u001b[0m\u001b[0;34m\u001b[0m\u001b[0m\n",
      "\u001b[0;32m~/.virtualenv/lib/python3.6/site-packages/tensorflow/python/client/session.py\u001b[0m in \u001b[0;36m_do_call\u001b[0;34m(self, fn, *args)\u001b[0m\n\u001b[1;32m   1332\u001b[0m   \u001b[0;32mdef\u001b[0m \u001b[0m_do_call\u001b[0m\u001b[0;34m(\u001b[0m\u001b[0mself\u001b[0m\u001b[0;34m,\u001b[0m \u001b[0mfn\u001b[0m\u001b[0;34m,\u001b[0m \u001b[0;34m*\u001b[0m\u001b[0margs\u001b[0m\u001b[0;34m)\u001b[0m\u001b[0;34m:\u001b[0m\u001b[0;34m\u001b[0m\u001b[0m\n\u001b[1;32m   1333\u001b[0m     \u001b[0;32mtry\u001b[0m\u001b[0;34m:\u001b[0m\u001b[0;34m\u001b[0m\u001b[0m\n\u001b[0;32m-> 1334\u001b[0;31m       \u001b[0;32mreturn\u001b[0m \u001b[0mfn\u001b[0m\u001b[0;34m(\u001b[0m\u001b[0;34m*\u001b[0m\u001b[0margs\u001b[0m\u001b[0;34m)\u001b[0m\u001b[0;34m\u001b[0m\u001b[0m\n\u001b[0m\u001b[1;32m   1335\u001b[0m     \u001b[0;32mexcept\u001b[0m \u001b[0merrors\u001b[0m\u001b[0;34m.\u001b[0m\u001b[0mOpError\u001b[0m \u001b[0;32mas\u001b[0m \u001b[0me\u001b[0m\u001b[0;34m:\u001b[0m\u001b[0;34m\u001b[0m\u001b[0m\n\u001b[1;32m   1336\u001b[0m       \u001b[0mmessage\u001b[0m \u001b[0;34m=\u001b[0m \u001b[0mcompat\u001b[0m\u001b[0;34m.\u001b[0m\u001b[0mas_text\u001b[0m\u001b[0;34m(\u001b[0m\u001b[0me\u001b[0m\u001b[0;34m.\u001b[0m\u001b[0mmessage\u001b[0m\u001b[0;34m)\u001b[0m\u001b[0;34m\u001b[0m\u001b[0m\n",
      "\u001b[0;32m~/.virtualenv/lib/python3.6/site-packages/tensorflow/python/client/session.py\u001b[0m in \u001b[0;36m_run_fn\u001b[0;34m(feed_dict, fetch_list, target_list, options, run_metadata)\u001b[0m\n\u001b[1;32m   1317\u001b[0m       \u001b[0mself\u001b[0m\u001b[0;34m.\u001b[0m\u001b[0m_extend_graph\u001b[0m\u001b[0;34m(\u001b[0m\u001b[0;34m)\u001b[0m\u001b[0;34m\u001b[0m\u001b[0m\n\u001b[1;32m   1318\u001b[0m       return self._call_tf_sessionrun(\n\u001b[0;32m-> 1319\u001b[0;31m           options, feed_dict, fetch_list, target_list, run_metadata)\n\u001b[0m\u001b[1;32m   1320\u001b[0m \u001b[0;34m\u001b[0m\u001b[0m\n\u001b[1;32m   1321\u001b[0m     \u001b[0;32mdef\u001b[0m \u001b[0m_prun_fn\u001b[0m\u001b[0;34m(\u001b[0m\u001b[0mhandle\u001b[0m\u001b[0;34m,\u001b[0m \u001b[0mfeed_dict\u001b[0m\u001b[0;34m,\u001b[0m \u001b[0mfetch_list\u001b[0m\u001b[0;34m)\u001b[0m\u001b[0;34m:\u001b[0m\u001b[0;34m\u001b[0m\u001b[0m\n",
      "\u001b[0;32m~/.virtualenv/lib/python3.6/site-packages/tensorflow/python/client/session.py\u001b[0m in \u001b[0;36m_call_tf_sessionrun\u001b[0;34m(self, options, feed_dict, fetch_list, target_list, run_metadata)\u001b[0m\n\u001b[1;32m   1405\u001b[0m     return tf_session.TF_SessionRun_wrapper(\n\u001b[1;32m   1406\u001b[0m         \u001b[0mself\u001b[0m\u001b[0;34m.\u001b[0m\u001b[0m_session\u001b[0m\u001b[0;34m,\u001b[0m \u001b[0moptions\u001b[0m\u001b[0;34m,\u001b[0m \u001b[0mfeed_dict\u001b[0m\u001b[0;34m,\u001b[0m \u001b[0mfetch_list\u001b[0m\u001b[0;34m,\u001b[0m \u001b[0mtarget_list\u001b[0m\u001b[0;34m,\u001b[0m\u001b[0;34m\u001b[0m\u001b[0m\n\u001b[0;32m-> 1407\u001b[0;31m         run_metadata)\n\u001b[0m\u001b[1;32m   1408\u001b[0m \u001b[0;34m\u001b[0m\u001b[0m\n\u001b[1;32m   1409\u001b[0m   \u001b[0;32mdef\u001b[0m \u001b[0m_call_tf_sessionprun\u001b[0m\u001b[0;34m(\u001b[0m\u001b[0mself\u001b[0m\u001b[0;34m,\u001b[0m \u001b[0mhandle\u001b[0m\u001b[0;34m,\u001b[0m \u001b[0mfeed_dict\u001b[0m\u001b[0;34m,\u001b[0m \u001b[0mfetch_list\u001b[0m\u001b[0;34m)\u001b[0m\u001b[0;34m:\u001b[0m\u001b[0;34m\u001b[0m\u001b[0m\n",
      "\u001b[0;31mKeyboardInterrupt\u001b[0m: "
     ]
    }
   ],
   "source": [
    "for i in range(numEpochs):\n",
    "    for j in range(numSubEpochs):\n",
    "        totalLoss = 0\n",
    "        for k in range(0, len(x_train), batchSize):\n",
    "            batch_x_train = x_train[k:min(k+batchSize, len(x_train)), :, :]\n",
    "            batch_y_train = y_train[k:min(k+batchSize, len(y_train)), :]\n",
    "            _, l = sess.run([optimizerPerm, loss], feed_dict={X:batch_x_train, Y:batch_y_train, keep_prob:1.0})\n",
    "            totalLoss += l\n",
    "        lossList.append(totalLoss)\n",
    "        print(\"Optimizing Permutation: Epoch %d Sub-epoch %d Loss %f\" % (i, j, totalLoss), end='\\r')\n",
    "    print()\n",
    "    for j in range(numSubEpochs):\n",
    "        totalLoss = 0\n",
    "        for k in range(0, len(x_train), batchSize):\n",
    "            batch_x_train = x_train[k:min(k+batchSize, len(x_train)), :, :]\n",
    "            batch_y_train = y_train[k:min(k+batchSize, len(y_train)), :]\n",
    "            _, l = sess.run([optimizerFunction, loss], feed_dict={X:batch_x_train, Y:batch_y_train, keep_prob:1.0})\n",
    "            totalLoss += l\n",
    "        lossList.append(totalLoss)\n",
    "        print(\"Optimizing Function: Epoch %d Sub-epoch %d Loss %f\" % (i, j, l), end='\\r')\n",
    "    print()\n",
    "    valLoss = sess.run(loss, feed_dict={X:x_val, Y:y_val, keep_prob:1.0})\n",
    "    print(\"Validation loss is %f\" % valLoss)\n",
    "    if valLoss < minValLoss:\n",
    "        minValLoss = valLoss\n",
    "        weights = {'W1': sess.run(W1),\n",
    "                   'B1': sess.run(B1),\n",
    "                   'W2': sess.run(W2),\n",
    "                   'B2': sess.run(B2),\n",
    "                   'LSTMW1': sess.run(LSTMW1),\n",
    "                   'LSTMB1': sess.run(LSTMB1),\n",
    "                   'LSTMW2': sess.run(LSTMW2),\n",
    "                   'LSTMB2': sess.run(LSTMB2),\n",
    "                   'kernel': sess.run(cell.variables[0]),\n",
    "                   'bias': sess.run(cell.variables[1])}   "
   ]
  },
  {
   "cell_type": "markdown",
   "metadata": {},
   "source": [
    "<h1> Restore weights that gave least loss on validation set"
   ]
  },
  {
   "cell_type": "code",
   "execution_count": 10,
   "metadata": {},
   "outputs": [
    {
     "name": "stdout",
     "output_type": "stream",
     "text": [
      "Minimum validation loss is 2.6825252\n",
      "Restoring weights with minimum validation loss\n",
      "Validation loss after restoring is 2.6825252\n"
     ]
    }
   ],
   "source": [
    "print(\"Minimum validation loss is\", minValLoss)\n",
    "print(\"Restoring weights with minimum validation loss\")\n",
    "sess.run(tf.assign(W1, weights['W1']))\n",
    "sess.run(tf.assign(B1, weights['B1']))\n",
    "sess.run(tf.assign(W2, weights['W2']))\n",
    "sess.run(tf.assign(B2, weights['B2']))\n",
    "sess.run(tf.assign(LSTMW1, weights['LSTMW1']))\n",
    "sess.run(tf.assign(LSTMB1, weights['LSTMB1']))\n",
    "sess.run(tf.assign(LSTMW2, weights['LSTMW2']))\n",
    "sess.run(tf.assign(LSTMB2, weights['LSTMB2']))\n",
    "sess.run(tf.assign(cell.variables[0], weights['kernel']))\n",
    "sess.run(tf.assign(cell.variables[1], weights['bias']))\n",
    "print(\"Validation loss after restoring is\", sess.run(loss, feed_dict={X:x_val, Y:y_val, keep_prob:1.0}))"
   ]
  },
  {
   "cell_type": "markdown",
   "metadata": {},
   "source": [
    "<h1> Accuracy on test set after rounding"
   ]
  },
  {
   "cell_type": "code",
   "execution_count": 14,
   "metadata": {},
   "outputs": [
    {
     "name": "stdout",
     "output_type": "stream",
     "text": [
      "1.0\n"
     ]
    }
   ],
   "source": [
    "preds = sess.run(LSTMOut, feed_dict={X:x_test, keep_prob:1.0})\n",
    "preds = np.round(preds)\n",
    "cnt = 0\n",
    "for i in range(len(y_test)):\n",
    "    if preds[i, 0] == y_test[i, 0]:\n",
    "        cnt += 1\n",
    "print(cnt / len(y_test))"
   ]
  },
  {
   "cell_type": "markdown",
   "metadata": {},
   "source": [
    "<h1> Average Relative Error on Test Set"
   ]
  },
  {
   "cell_type": "code",
   "execution_count": 13,
   "metadata": {},
   "outputs": [
    {
     "name": "stdout",
     "output_type": "stream",
     "text": [
      "Average relative error on test set is 0.018251811778837182\n"
     ]
    }
   ],
   "source": [
    "preds = sess.run(LSTMOut, feed_dict={X:x_test, keep_prob:1.0})\n",
    "total_relative_error = 0\n",
    "cnt = 0\n",
    "for i in range(len(preds)):\n",
    "    if y_test[i, 0] == 0:\n",
    "        continue\n",
    "    relative_error = abs(preds[i, 0] - y_test[i, 0]) / y_test[i, 0]\n",
    "    cnt += 1\n",
    "    total_relative_error += relative_error\n",
    "    \n",
    "print(\"Average relative error on test set is\", (total_relative_error / cnt))"
   ]
  },
  {
   "cell_type": "markdown",
   "metadata": {},
   "source": [
    "<h1> Studying Permutation Invariance of SPAN"
   ]
  },
  {
   "cell_type": "code",
   "execution_count": 19,
   "metadata": {},
   "outputs": [
    {
     "name": "stdout",
     "output_type": "stream",
     "text": [
      "Studying output on different permutations\n",
      "x_test is [20, 19, 2, 11, 16, 20, 6, 16, 8, 1]\n",
      "Prediction is 20.173746 \n",
      "\n",
      "x_test is [20, 20, 11, 16, 8, 2, 1, 19, 16, 6]\n",
      "Prediction is 20.173746 \n",
      "\n",
      "x_test is [11, 16, 20, 2, 8, 19, 16, 1, 6, 20]\n",
      "Prediction is 20.17375 \n",
      "\n",
      "x_test is [1, 20, 19, 6, 16, 16, 11, 8, 20, 2]\n",
      "Prediction is 20.173748 \n",
      "\n",
      "x_test is [16, 8, 20, 19, 11, 6, 20, 16, 1, 2]\n",
      "Prediction is 20.17375 \n",
      "\n",
      "x_test is [16, 19, 2, 20, 20, 6, 8, 11, 16, 1]\n",
      "Prediction is 20.173748 \n",
      "\n",
      "x_test is [20, 16, 2, 20, 6, 11, 19, 1, 8, 16]\n",
      "Prediction is 20.173748 \n",
      "\n",
      "x_test is [2, 16, 20, 19, 1, 16, 8, 20, 11, 6]\n",
      "Prediction is 20.173748 \n",
      "\n",
      "x_test is [11, 1, 2, 20, 20, 19, 8, 6, 16, 16]\n",
      "Prediction is 20.173746 \n",
      "\n",
      "x_test is [11, 2, 16, 8, 6, 1, 20, 20, 16, 19]\n",
      "Prediction is 20.173746 \n",
      "\n",
      "x_test is [1, 16, 8, 16, 2, 19, 11, 6, 20, 20]\n",
      "Prediction is 20.173746 \n",
      "\n",
      "x_test is [11, 19, 20, 2, 16, 1, 8, 16, 20, 6]\n",
      "Prediction is 20.17375 \n",
      "\n",
      "x_test is [2, 8, 20, 20, 1, 19, 16, 6, 16, 11]\n",
      "Prediction is 20.173748 \n",
      "\n",
      "x_test is [2, 11, 6, 19, 1, 20, 16, 16, 20, 8]\n",
      "Prediction is 20.17375 \n",
      "\n",
      "x_test is [2, 20, 1, 6, 16, 19, 20, 8, 11, 16]\n",
      "Prediction is 20.173748 \n",
      "\n",
      "x_test is [1, 19, 8, 20, 11, 16, 2, 6, 16, 20]\n",
      "Prediction is 20.17375 \n",
      "\n",
      "x_test is [11, 6, 19, 20, 2, 16, 8, 20, 1, 16]\n",
      "Prediction is 20.173746 \n",
      "\n",
      "x_test is [16, 20, 6, 8, 2, 19, 16, 11, 20, 1]\n",
      "Prediction is 20.173748 \n",
      "\n",
      "x_test is [20, 8, 11, 16, 20, 6, 19, 2, 1, 16]\n",
      "Prediction is 20.173748 \n",
      "\n",
      "x_test is [6, 20, 11, 8, 16, 20, 2, 16, 19, 1]\n",
      "Prediction is 20.173748 \n",
      "\n"
     ]
    }
   ],
   "source": [
    "print(\"Studying output on different permutations\")\n",
    "for i in range(20):\n",
    "    tt = []\n",
    "    for num in x_test[10]:\n",
    "        tt.append(num[0])\n",
    "    np.random.shuffle(tt)\n",
    "    print(\"x_test is\", tt)\n",
    "    x_test_perm = np.reshape(tt, [-1, n, 1])\n",
    "    preds = sess.run(LSTMOut, feed_dict={X:x_test_perm, keep_prob:1.0})\n",
    "    print(\"Prediction is\", preds[0, 0], \"\\n\")"
   ]
  }
 ],
 "metadata": {
  "kernelspec": {
   "display_name": "Python 3",
   "language": "python",
   "name": "python3"
  },
  "language_info": {
   "codemirror_mode": {
    "name": "ipython",
    "version": 3
   },
   "file_extension": ".py",
   "mimetype": "text/x-python",
   "name": "python",
   "nbconvert_exporter": "python",
   "pygments_lexer": "ipython3",
   "version": "3.6.3"
  }
 },
 "nbformat": 4,
 "nbformat_minor": 2
}
